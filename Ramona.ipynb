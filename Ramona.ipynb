{
  "nbformat": 4,
  "nbformat_minor": 0,
  "metadata": {
    "colab": {
      "name": "Ramona.ipynb",
      "provenance": [],
      "include_colab_link": true
    },
    "kernelspec": {
      "name": "python3",
      "display_name": "Python 3"
    }
  },
  "cells": [
    {
      "cell_type": "markdown",
      "metadata": {
        "id": "view-in-github",
        "colab_type": "text"
      },
      "source": [
        "<a href=\"https://colab.research.google.com/github/riquemorano/Ramona/blob/master/Ramona.ipynb\" target=\"_parent\"><img src=\"https://colab.research.google.com/assets/colab-badge.svg\" alt=\"Open In Colab\"/></a>"
      ]
    },
    {
      "cell_type": "code",
      "metadata": {
        "id": "ov3KaqNoYtLW",
        "colab_type": "code",
        "colab": {}
      },
      "source": [
        "!pip install chatterbot\n",
        "!pip install chatterbot-corpus\n",
        "import chatterbot\n",
        "from chatterbot import ChatBot\n",
        "from chatterbot.trainers import ListTrainer"
      ],
      "execution_count": null,
      "outputs": []
    },
    {
      "cell_type": "code",
      "metadata": {
        "id": "pZV9KBkTYYMF",
        "colab_type": "code",
        "colab": {}
      },
      "source": [
        "chatbot = ChatBot('Ramona')\n",
        "while True:\n",
        "    quest = input(\"Você: \").capitalize()\n",
        "    response = chatbot.get_response(quest)\n",
        "    print('Ramona: ', response)"
      ],
      "execution_count": null,
      "outputs": []
    },
    {
      "cell_type": "code",
      "metadata": {
        "id": "tVP3dnw_YsAZ",
        "colab_type": "code",
        "colab": {}
      },
      "source": [
        "while True:\n",
        "\n",
        "    nome = input(\"Digite o nome do arquivo: \")\n",
        "    if (nome == \"exit\"):\n",
        "        break\n",
        "    else:\n",
        "        chatbot = ChatBot('Ramona')\n",
        "        trainer = ListTrainer(chatbot)\n",
        "        treino = open(\"Conversas\" + '/' + nome + '.txt', 'r', encoding=\"utf8\")\n",
        "        trainer.train(treino.readlines())\n",
        "\n",
        "\n"
      ],
      "execution_count": null,
      "outputs": []
    },
    {
      "cell_type": "code",
      "metadata": {
        "id": "eQkHfV7PYtIb",
        "colab_type": "code",
        "colab": {}
      },
      "source": [
        ""
      ],
      "execution_count": null,
      "outputs": []
    }
  ]
}